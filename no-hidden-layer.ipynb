{
 "cells": [
  {
   "cell_type": "markdown",
   "id": "a4686d4f",
   "metadata": {},
   "source": [
    "# Digit recognition notebook - no hidden layer"
   ]
  },
  {
   "cell_type": "markdown",
   "id": "b48db159",
   "metadata": {},
   "source": [
    "## Import library"
   ]
  },
  {
   "cell_type": "code",
   "execution_count": 1,
   "id": "f94abe75",
   "metadata": {},
   "outputs": [],
   "source": [
    "import numpy as np\n",
    "import matplotlib.pyplot as plt\n",
    "import random\n",
    "from mnist import MNIST"
   ]
  },
  {
   "cell_type": "markdown",
   "id": "9c0955d5",
   "metadata": {},
   "source": [
    "## Import data"
   ]
  },
  {
   "cell_type": "code",
   "execution_count": 2,
   "id": "1bea621a",
   "metadata": {},
   "outputs": [],
   "source": [
    "mndata = MNIST('./data')\n",
    "mndata.gz = True\n",
    "images, labels = mndata.load_training()"
   ]
  },
  {
   "cell_type": "markdown",
   "id": "297ad7a6",
   "metadata": {},
   "source": [
    "### The size of training data"
   ]
  },
  {
   "cell_type": "code",
   "execution_count": 3,
   "id": "ddc9e672",
   "metadata": {},
   "outputs": [
    {
     "data": {
      "text/plain": [
       "(60000, 60000)"
      ]
     },
     "execution_count": 3,
     "metadata": {},
     "output_type": "execute_result"
    }
   ],
   "source": [
    "len(images), len(labels)"
   ]
  },
  {
   "cell_type": "markdown",
   "id": "34b098c4",
   "metadata": {},
   "source": [
    "### Sampling one data example"
   ]
  },
  {
   "cell_type": "markdown",
   "id": "d2eb37e9",
   "metadata": {},
   "source": [
    "The example is a 784-element list. To make an image out of it, the list needs to be reshaped to 28 by 28 numpy array."
   ]
  },
  {
   "cell_type": "code",
   "execution_count": 46,
   "id": "a75fe48b",
   "metadata": {},
   "outputs": [
    {
     "data": {
      "image/png": "[encoded data removed]",
      "text/plain": [
       "<Figure size 432x288 with 1 Axes>"
      ]
     },
     "metadata": {
      "needs_background": "light"
     },
     "output_type": "display_data"
    }
   ],
   "source": [
    "index = random.randrange(0, len(images))  # choose an index ;-)\n",
    "raw_x = images[index]\n",
    "\n",
    "# TESTING AND PLOT DATA\n",
    "reshaped_x = np.reshape(raw_x,(28,28))[::-1]\n",
    "reshaped_x = reshaped_x /255\n",
    "\n",
    "fig, ax = plt.subplots()\n",
    "ax.pcolormesh(reshaped_x)\n",
    "ax.set_aspect('equal')\n",
    "ax.set_title(f\"Example no. {index}, the number is {labels[index]}\")\n",
    "plt.show()"
   ]
  },
  {
   "cell_type": "code",
   "execution_count": null,
   "id": "ea6453a6",
   "metadata": {},
   "outputs": [],
   "source": []
  }
 ],
 "metadata": {
  "kernelspec": {
   "display_name": "Python 3",
   "language": "python",
   "name": "python3"
  },
  "language_info": {
   "codemirror_mode": {
    "name": "ipython",
    "version": 3
   },
   "file_extension": ".py",
   "mimetype": "text/x-python",
   "name": "python",
   "nbconvert_exporter": "python",
   "pygments_lexer": "ipython3",
   "version": "3.9.4"
  }
 },
 "nbformat": 4,
 "nbformat_minor": 5
}
